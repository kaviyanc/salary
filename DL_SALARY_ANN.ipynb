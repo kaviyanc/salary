{
 "cells": [
  {
   "cell_type": "code",
   "execution_count": 207,
   "id": "b27daa07",
   "metadata": {},
   "outputs": [],
   "source": [
    "#import libraries\n",
    "import numpy as np\n",
    "import pandas as pd\n",
    "import matplotlib.pyplot as plt\n",
    "import seaborn as sns"
   ]
  },
  {
   "cell_type": "code",
   "execution_count": 208,
   "id": "73af6016",
   "metadata": {},
   "outputs": [],
   "source": [
    "#upload csv file\n",
    "df=pd.read_csv('salaries.csv')"
   ]
  },
  {
   "cell_type": "code",
   "execution_count": 209,
   "id": "abe1463a",
   "metadata": {},
   "outputs": [
    {
     "data": {
      "text/html": [
       "<div>\n",
       "<style scoped>\n",
       "    .dataframe tbody tr th:only-of-type {\n",
       "        vertical-align: middle;\n",
       "    }\n",
       "\n",
       "    .dataframe tbody tr th {\n",
       "        vertical-align: top;\n",
       "    }\n",
       "\n",
       "    .dataframe thead th {\n",
       "        text-align: right;\n",
       "    }\n",
       "</style>\n",
       "<table border=\"1\" class=\"dataframe\">\n",
       "  <thead>\n",
       "    <tr style=\"text-align: right;\">\n",
       "      <th></th>\n",
       "      <th>work_year</th>\n",
       "      <th>experience_level</th>\n",
       "      <th>employment_type</th>\n",
       "      <th>job_title</th>\n",
       "      <th>salary</th>\n",
       "      <th>salary_currency</th>\n",
       "      <th>salary_in_usd</th>\n",
       "      <th>employee_residence</th>\n",
       "      <th>remote_ratio</th>\n",
       "      <th>company_location</th>\n",
       "      <th>company_size</th>\n",
       "    </tr>\n",
       "  </thead>\n",
       "  <tbody>\n",
       "    <tr>\n",
       "      <th>0</th>\n",
       "      <td>2025</td>\n",
       "      <td>SE</td>\n",
       "      <td>FT</td>\n",
       "      <td>Data Product Owner</td>\n",
       "      <td>170000</td>\n",
       "      <td>USD</td>\n",
       "      <td>170000</td>\n",
       "      <td>US</td>\n",
       "      <td>0</td>\n",
       "      <td>US</td>\n",
       "      <td>M</td>\n",
       "    </tr>\n",
       "    <tr>\n",
       "      <th>1</th>\n",
       "      <td>2025</td>\n",
       "      <td>SE</td>\n",
       "      <td>FT</td>\n",
       "      <td>Data Product Owner</td>\n",
       "      <td>110000</td>\n",
       "      <td>USD</td>\n",
       "      <td>110000</td>\n",
       "      <td>US</td>\n",
       "      <td>0</td>\n",
       "      <td>US</td>\n",
       "      <td>M</td>\n",
       "    </tr>\n",
       "    <tr>\n",
       "      <th>2</th>\n",
       "      <td>2025</td>\n",
       "      <td>SE</td>\n",
       "      <td>FT</td>\n",
       "      <td>Data Product Owner</td>\n",
       "      <td>170000</td>\n",
       "      <td>USD</td>\n",
       "      <td>170000</td>\n",
       "      <td>US</td>\n",
       "      <td>0</td>\n",
       "      <td>US</td>\n",
       "      <td>M</td>\n",
       "    </tr>\n",
       "    <tr>\n",
       "      <th>3</th>\n",
       "      <td>2025</td>\n",
       "      <td>SE</td>\n",
       "      <td>FT</td>\n",
       "      <td>Data Product Owner</td>\n",
       "      <td>110000</td>\n",
       "      <td>USD</td>\n",
       "      <td>110000</td>\n",
       "      <td>US</td>\n",
       "      <td>0</td>\n",
       "      <td>US</td>\n",
       "      <td>M</td>\n",
       "    </tr>\n",
       "    <tr>\n",
       "      <th>4</th>\n",
       "      <td>2025</td>\n",
       "      <td>SE</td>\n",
       "      <td>FT</td>\n",
       "      <td>Engineer</td>\n",
       "      <td>143000</td>\n",
       "      <td>USD</td>\n",
       "      <td>143000</td>\n",
       "      <td>US</td>\n",
       "      <td>0</td>\n",
       "      <td>US</td>\n",
       "      <td>M</td>\n",
       "    </tr>\n",
       "  </tbody>\n",
       "</table>\n",
       "</div>"
      ],
      "text/plain": [
       "   work_year experience_level employment_type           job_title  salary  \\\n",
       "0       2025               SE              FT  Data Product Owner  170000   \n",
       "1       2025               SE              FT  Data Product Owner  110000   \n",
       "2       2025               SE              FT  Data Product Owner  170000   \n",
       "3       2025               SE              FT  Data Product Owner  110000   \n",
       "4       2025               SE              FT            Engineer  143000   \n",
       "\n",
       "  salary_currency  salary_in_usd employee_residence  remote_ratio  \\\n",
       "0             USD         170000                 US             0   \n",
       "1             USD         110000                 US             0   \n",
       "2             USD         170000                 US             0   \n",
       "3             USD         110000                 US             0   \n",
       "4             USD         143000                 US             0   \n",
       "\n",
       "  company_location company_size  \n",
       "0               US            M  \n",
       "1               US            M  \n",
       "2               US            M  \n",
       "3               US            M  \n",
       "4               US            M  "
      ]
     },
     "execution_count": 209,
     "metadata": {},
     "output_type": "execute_result"
    }
   ],
   "source": [
    "#upload csv file\n",
    "df.head()"
   ]
  },
  {
   "cell_type": "code",
   "execution_count": 210,
   "id": "43b8a569",
   "metadata": {},
   "outputs": [
    {
     "data": {
      "text/plain": [
       "work_year             0\n",
       "experience_level      0\n",
       "employment_type       0\n",
       "job_title             0\n",
       "salary                0\n",
       "salary_currency       0\n",
       "salary_in_usd         0\n",
       "employee_residence    0\n",
       "remote_ratio          0\n",
       "company_location      0\n",
       "company_size          0\n",
       "dtype: int64"
      ]
     },
     "execution_count": 210,
     "metadata": {},
     "output_type": "execute_result"
    }
   ],
   "source": [
    "#check null values\n",
    "df.isnull().sum()"
   ]
  },
  {
   "cell_type": "code",
   "execution_count": 211,
   "id": "97514c5d",
   "metadata": {},
   "outputs": [
    {
     "name": "stdout",
     "output_type": "stream",
     "text": [
      "<class 'pandas.core.frame.DataFrame'>\n",
      "RangeIndex: 73148 entries, 0 to 73147\n",
      "Data columns (total 11 columns):\n",
      " #   Column              Non-Null Count  Dtype \n",
      "---  ------              --------------  ----- \n",
      " 0   work_year           73148 non-null  int64 \n",
      " 1   experience_level    73148 non-null  object\n",
      " 2   employment_type     73148 non-null  object\n",
      " 3   job_title           73148 non-null  object\n",
      " 4   salary              73148 non-null  int64 \n",
      " 5   salary_currency     73148 non-null  object\n",
      " 6   salary_in_usd       73148 non-null  int64 \n",
      " 7   employee_residence  73148 non-null  object\n",
      " 8   remote_ratio        73148 non-null  int64 \n",
      " 9   company_location    73148 non-null  object\n",
      " 10  company_size        73148 non-null  object\n",
      "dtypes: int64(4), object(7)\n",
      "memory usage: 6.1+ MB\n"
     ]
    }
   ],
   "source": [
    "#dataframe information\n",
    "df.info()"
   ]
  },
  {
   "cell_type": "code",
   "execution_count": 212,
   "id": "13ce10e1",
   "metadata": {},
   "outputs": [
    {
     "name": "stdout",
     "output_type": "stream",
     "text": [
      "experience_level\n",
      "SE    42926\n",
      "MI    21851\n",
      "EN     6877\n",
      "EX     1494\n",
      "Name: count, dtype: int64\n",
      "employment_type\n",
      "FT    72808\n",
      "PT      175\n",
      "CT      149\n",
      "FL       16\n",
      "Name: count, dtype: int64\n",
      "company_size\n",
      "M    70536\n",
      "L     2407\n",
      "S      205\n",
      "Name: count, dtype: int64\n"
     ]
    }
   ],
   "source": [
    "# checking the value count of categorical column\n",
    "print(df['experience_level'].value_counts())\n",
    "print(df['employment_type'].value_counts())\n",
    "print(df['company_size'].value_counts())"
   ]
  },
  {
   "cell_type": "code",
   "execution_count": 213,
   "id": "52423c8d",
   "metadata": {},
   "outputs": [
    {
     "data": {
      "text/plain": [
       "(73148, 11)"
      ]
     },
     "execution_count": 213,
     "metadata": {},
     "output_type": "execute_result"
    }
   ],
   "source": [
    "#dataframe shape\n",
    "df.shape"
   ]
  },
  {
   "cell_type": "code",
   "execution_count": 214,
   "id": "f99c42bb",
   "metadata": {},
   "outputs": [
    {
     "data": {
      "text/html": [
       "<div>\n",
       "<style scoped>\n",
       "    .dataframe tbody tr th:only-of-type {\n",
       "        vertical-align: middle;\n",
       "    }\n",
       "\n",
       "    .dataframe tbody tr th {\n",
       "        vertical-align: top;\n",
       "    }\n",
       "\n",
       "    .dataframe thead th {\n",
       "        text-align: right;\n",
       "    }\n",
       "</style>\n",
       "<table border=\"1\" class=\"dataframe\">\n",
       "  <thead>\n",
       "    <tr style=\"text-align: right;\">\n",
       "      <th></th>\n",
       "      <th>work_year</th>\n",
       "      <th>job_title</th>\n",
       "      <th>salary</th>\n",
       "      <th>salary_currency</th>\n",
       "      <th>salary_in_usd</th>\n",
       "      <th>employee_residence</th>\n",
       "      <th>remote_ratio</th>\n",
       "      <th>company_location</th>\n",
       "      <th>experience_level_EX</th>\n",
       "      <th>experience_level_MI</th>\n",
       "      <th>experience_level_SE</th>\n",
       "      <th>employment_type_FL</th>\n",
       "      <th>employment_type_FT</th>\n",
       "      <th>employment_type_PT</th>\n",
       "      <th>company_size_M</th>\n",
       "      <th>company_size_S</th>\n",
       "    </tr>\n",
       "  </thead>\n",
       "  <tbody>\n",
       "    <tr>\n",
       "      <th>0</th>\n",
       "      <td>2025</td>\n",
       "      <td>Data Product Owner</td>\n",
       "      <td>170000</td>\n",
       "      <td>USD</td>\n",
       "      <td>170000</td>\n",
       "      <td>US</td>\n",
       "      <td>0</td>\n",
       "      <td>US</td>\n",
       "      <td>False</td>\n",
       "      <td>False</td>\n",
       "      <td>True</td>\n",
       "      <td>False</td>\n",
       "      <td>True</td>\n",
       "      <td>False</td>\n",
       "      <td>True</td>\n",
       "      <td>False</td>\n",
       "    </tr>\n",
       "    <tr>\n",
       "      <th>1</th>\n",
       "      <td>2025</td>\n",
       "      <td>Data Product Owner</td>\n",
       "      <td>110000</td>\n",
       "      <td>USD</td>\n",
       "      <td>110000</td>\n",
       "      <td>US</td>\n",
       "      <td>0</td>\n",
       "      <td>US</td>\n",
       "      <td>False</td>\n",
       "      <td>False</td>\n",
       "      <td>True</td>\n",
       "      <td>False</td>\n",
       "      <td>True</td>\n",
       "      <td>False</td>\n",
       "      <td>True</td>\n",
       "      <td>False</td>\n",
       "    </tr>\n",
       "    <tr>\n",
       "      <th>2</th>\n",
       "      <td>2025</td>\n",
       "      <td>Data Product Owner</td>\n",
       "      <td>170000</td>\n",
       "      <td>USD</td>\n",
       "      <td>170000</td>\n",
       "      <td>US</td>\n",
       "      <td>0</td>\n",
       "      <td>US</td>\n",
       "      <td>False</td>\n",
       "      <td>False</td>\n",
       "      <td>True</td>\n",
       "      <td>False</td>\n",
       "      <td>True</td>\n",
       "      <td>False</td>\n",
       "      <td>True</td>\n",
       "      <td>False</td>\n",
       "    </tr>\n",
       "  </tbody>\n",
       "</table>\n",
       "</div>"
      ],
      "text/plain": [
       "   work_year           job_title  salary salary_currency  salary_in_usd  \\\n",
       "0       2025  Data Product Owner  170000             USD         170000   \n",
       "1       2025  Data Product Owner  110000             USD         110000   \n",
       "2       2025  Data Product Owner  170000             USD         170000   \n",
       "\n",
       "  employee_residence  remote_ratio company_location  experience_level_EX  \\\n",
       "0                 US             0               US                False   \n",
       "1                 US             0               US                False   \n",
       "2                 US             0               US                False   \n",
       "\n",
       "   experience_level_MI  experience_level_SE  employment_type_FL  \\\n",
       "0                False                 True               False   \n",
       "1                False                 True               False   \n",
       "2                False                 True               False   \n",
       "\n",
       "   employment_type_FT  employment_type_PT  company_size_M  company_size_S  \n",
       "0                True               False            True           False  \n",
       "1                True               False            True           False  \n",
       "2                True               False            True           False  "
      ]
     },
     "execution_count": 214,
     "metadata": {},
     "output_type": "execute_result"
    }
   ],
   "source": [
    "#onehotencoding\n",
    "df = pd.get_dummies(df,columns=['experience_level','employment_type','company_size'],drop_first=True)\n",
    "df.head(3)"
   ]
  },
  {
   "cell_type": "code",
   "execution_count": 215,
   "id": "16a7eaec",
   "metadata": {},
   "outputs": [
    {
     "data": {
      "text/plain": [
       "(73148, 16)"
      ]
     },
     "execution_count": 215,
     "metadata": {},
     "output_type": "execute_result"
    }
   ],
   "source": [
    "#dataframe shape\n",
    "df.shape"
   ]
  },
  {
   "cell_type": "code",
   "execution_count": 216,
   "id": "9192bda0",
   "metadata": {},
   "outputs": [
    {
     "data": {
      "text/plain": [
       "Index(['work_year', 'job_title', 'salary', 'salary_currency', 'salary_in_usd',\n",
       "       'employee_residence', 'remote_ratio', 'company_location',\n",
       "       'experience_level_EX', 'experience_level_MI', 'experience_level_SE',\n",
       "       'employment_type_FL', 'employment_type_FT', 'employment_type_PT',\n",
       "       'company_size_M', 'company_size_S'],\n",
       "      dtype='object')"
      ]
     },
     "execution_count": 216,
     "metadata": {},
     "output_type": "execute_result"
    }
   ],
   "source": [
    "df.columns"
   ]
  },
  {
   "cell_type": "code",
   "execution_count": 217,
   "id": "67d90c39",
   "metadata": {},
   "outputs": [
    {
     "data": {
      "image/png": "[encoded data removed]",
      "text/plain": [
       "<Figure size 800x500 with 1 Axes>"
      ]
     },
     "metadata": {},
     "output_type": "display_data"
    }
   ],
   "source": [
    "#Salary Distribution (salary_in_usd) - histogram\n",
    "plt.figure(figsize=(8,5))\n",
    "sns.histplot(df['salary_in_usd'], bins=30, kde=True)\n",
    "plt.title('Salary Distribution (in USD)')\n",
    "plt.xlabel('Salary in USD')\n",
    "plt.ylabel('Count')\n",
    "plt.show()"
   ]
  },
  {
   "cell_type": "code",
   "execution_count": 218,
   "id": "37fcacca",
   "metadata": {},
   "outputs": [
    {
     "data": {
      "image/png": "[encoded data removed]",
      "text/plain": [
       "<Figure size 800x500 with 1 Axes>"
      ]
     },
     "metadata": {},
     "output_type": "display_data"
    }
   ],
   "source": [
    "#Average Salary by Work Year - bar plot\n",
    "plt.figure(figsize=(8,5))\n",
    "avg_salary_year = df.groupby('work_year')['salary_in_usd'].mean().reset_index()\n",
    "sns.barplot(x='work_year', y='salary_in_usd', data=avg_salary_year)\n",
    "plt.title('Average Salary by Work Year')\n",
    "plt.xlabel('Work Year')\n",
    "plt.ylabel('Average Salary in USD')\n",
    "plt.show()"
   ]
  },
  {
   "cell_type": "code",
   "execution_count": 220,
   "id": "0d2092e7",
   "metadata": {},
   "outputs": [
    {
     "name": "stderr",
     "output_type": "stream",
     "text": [
      "c:\\Users\\ACSASS\\AppData\\Local\\Programs\\Python\\Python310\\lib\\site-packages\\keras\\src\\layers\\core\\dense.py:87: UserWarning: Do not pass an `input_shape`/`input_dim` argument to a layer. When using Sequential models, prefer using an `Input(shape)` object as the first layer in the model instead.\n",
      "  super().__init__(activity_regularizer=activity_regularizer, **kwargs)\n"
     ]
    },
    {
     "name": "stdout",
     "output_type": "stream",
     "text": [
      "Epoch 1/10\n",
      "\u001b[1m1463/1463\u001b[0m \u001b[32m━━━━━━━━━━━━━━━━━━━━\u001b[0m\u001b[37m\u001b[0m \u001b[1m30s\u001b[0m 16ms/step - loss: 15937956864.0000 - mae: 99878.1875 - val_loss: 4086073088.0000 - val_mae: 48017.1445\n",
      "Epoch 2/10\n",
      "\u001b[1m1463/1463\u001b[0m \u001b[32m━━━━━━━━━━━━━━━━━━━━\u001b[0m\u001b[37m\u001b[0m \u001b[1m42s\u001b[0m 16ms/step - loss: 4392350208.0000 - mae: 49862.5742 - val_loss: 3835346688.0000 - val_mae: 46453.0781\n",
      "Epoch 3/10\n",
      "\u001b[1m1463/1463\u001b[0m \u001b[32m━━━━━━━━━━━━━━━━━━━━\u001b[0m\u001b[37m\u001b[0m \u001b[1m43s\u001b[0m 17ms/step - loss: 4061117952.0000 - mae: 47907.0117 - val_loss: 3783008000.0000 - val_mae: 45694.0195\n",
      "Epoch 4/10\n",
      "\u001b[1m1463/1463\u001b[0m \u001b[32m━━━━━━━━━━━━━━━━━━━━\u001b[0m\u001b[37m\u001b[0m \u001b[1m24s\u001b[0m 16ms/step - loss: 4248959488.0000 - mae: 48325.6367 - val_loss: 3763326464.0000 - val_mae: 45402.1328\n",
      "Epoch 5/10\n",
      "\u001b[1m1463/1463\u001b[0m \u001b[32m━━━━━━━━━━━━━━━━━━━━\u001b[0m\u001b[37m\u001b[0m \u001b[1m25s\u001b[0m 17ms/step - loss: 4133442304.0000 - mae: 47852.7578 - val_loss: 3711363072.0000 - val_mae: 45564.8867\n",
      "Epoch 6/10\n",
      "\u001b[1m1463/1463\u001b[0m \u001b[32m━━━━━━━━━━━━━━━━━━━━\u001b[0m\u001b[37m\u001b[0m \u001b[1m26s\u001b[0m 18ms/step - loss: 4017628928.0000 - mae: 47139.6484 - val_loss: 3698647808.0000 - val_mae: 45508.4883\n",
      "Epoch 7/10\n",
      "\u001b[1m1463/1463\u001b[0m \u001b[32m━━━━━━━━━━━━━━━━━━━━\u001b[0m\u001b[37m\u001b[0m \u001b[1m43s\u001b[0m 19ms/step - loss: 4054798080.0000 - mae: 47464.1406 - val_loss: 3699519744.0000 - val_mae: 45291.3906\n",
      "Epoch 8/10\n",
      "\u001b[1m1463/1463\u001b[0m \u001b[32m━━━━━━━━━━━━━━━━━━━━\u001b[0m\u001b[37m\u001b[0m \u001b[1m40s\u001b[0m 18ms/step - loss: 4060491776.0000 - mae: 47341.4336 - val_loss: 3682191872.0000 - val_mae: 45881.0078\n",
      "Epoch 9/10\n",
      "\u001b[1m1463/1463\u001b[0m \u001b[32m━━━━━━━━━━━━━━━━━━━━\u001b[0m\u001b[37m\u001b[0m \u001b[1m43s\u001b[0m 19ms/step - loss: 3973423104.0000 - mae: 46993.3086 - val_loss: 3675213312.0000 - val_mae: 45774.8438\n",
      "Epoch 10/10\n",
      "\u001b[1m1463/1463\u001b[0m \u001b[32m━━━━━━━━━━━━━━━━━━━━\u001b[0m\u001b[37m\u001b[0m \u001b[1m31s\u001b[0m 21ms/step - loss: 3965662464.0000 - mae: 47028.0195 - val_loss: 3668416512.0000 - val_mae: 45596.5039\n",
      "\u001b[1m458/458\u001b[0m \u001b[32m━━━━━━━━━━━━━━━━━━━━\u001b[0m\u001b[37m\u001b[0m \u001b[1m9s\u001b[0m 19ms/step\n",
      "R2 Score: 0.2937 (Coefficient of Determination, akin to accuracy)\n"
     ]
    }
   ],
   "source": [
    "#DL model\n",
    "from sklearn.model_selection import train_test_split\n",
    "from sklearn.preprocessing import StandardScaler, OneHotEncoder\n",
    "from sklearn.compose import ColumnTransformer\n",
    "from sklearn.metrics import r2_score\n",
    "from tensorflow.keras.models import Sequential\n",
    "from tensorflow.keras.layers import Dense, Dropout\n",
    "from tensorflow.keras.optimizers import Adam\n",
    "\n",
    "\n",
    "# Add missing expected columns with default 0\n",
    "expected_columns = [\n",
    "    'experience_level_EX', 'experience_level_MI', 'experience_level_SE',\n",
    "    'employment_type_FL', 'employment_type_FT', 'employment_type_PT',\n",
    "    'company_size_M', 'company_size_S'\n",
    "]\n",
    "for col in expected_columns:\n",
    "    if col not in df.columns:\n",
    "        df[col] = 0\n",
    "\n",
    "# Target and features\n",
    "y = df['salary_in_usd']\n",
    "X = df.drop(columns=['salary', 'salary_currency', 'salary_in_usd'])\n",
    "\n",
    "categorical_features = [\n",
    "    'work_year', 'job_title', 'employee_residence', 'company_location',\n",
    "    'experience_level_EX', 'experience_level_MI', 'experience_level_SE',\n",
    "    'employment_type_FL', 'employment_type_FT', 'employment_type_PT',\n",
    "    'company_size_M', 'company_size_S'\n",
    "]\n",
    "numeric_features = ['remote_ratio']\n",
    "\n",
    "# Preprocessor\n",
    "preprocessor = ColumnTransformer(\n",
    "    transformers=[\n",
    "        ('num', StandardScaler(), numeric_features),\n",
    "        ('cat', OneHotEncoder(sparse_output=False, handle_unknown='ignore'), categorical_features)\n",
    "    ],\n",
    "    remainder='drop'\n",
    ")\n",
    "X_processed = preprocessor.fit_transform(X)\n",
    "\n",
    "# Split data\n",
    "X_train, X_test, y_train, y_test = train_test_split(X_processed, y, test_size=0.2, random_state=42)\n",
    "\n",
    "# Build ANN model\n",
    "model = Sequential([\n",
    "    Dense(128, activation='relu', input_shape=(X_train.shape[1],)),\n",
    "    Dropout(0.3),\n",
    "    Dense(64, activation='relu'),\n",
    "    Dropout(0.3),\n",
    "    Dense(32, activation='relu'),\n",
    "    Dense(1)\n",
    "])\n",
    "\n",
    "model.compile(optimizer=Adam(learning_rate=0.001), loss='mse', metrics=['mae'])\n",
    "model.fit(X_train, y_train, epochs=10, batch_size=32, validation_split=0.2)\n",
    "\n",
    "# Predict and evaluate R2 score\n",
    "y_pred = model.predict(X_test).flatten()\n",
    "r2 = r2_score(y_test, y_pred)\n",
    "print(f'R2 Score: {r2:.4f} (Coefficient of Determination, akin to accuracy)')"
   ]
  },
  {
   "cell_type": "code",
   "execution_count": 222,
   "id": "fe9cea71",
   "metadata": {},
   "outputs": [
    {
     "name": "stdout",
     "output_type": "stream",
     "text": [
      "<class 'pandas.core.frame.DataFrame'>\n",
      "RangeIndex: 73148 entries, 0 to 73147\n",
      "Data columns (total 16 columns):\n",
      " #   Column               Non-Null Count  Dtype \n",
      "---  ------               --------------  ----- \n",
      " 0   work_year            73148 non-null  int64 \n",
      " 1   job_title            73148 non-null  object\n",
      " 2   salary               73148 non-null  int64 \n",
      " 3   salary_currency      73148 non-null  object\n",
      " 4   salary_in_usd        73148 non-null  int64 \n",
      " 5   employee_residence   73148 non-null  object\n",
      " 6   remote_ratio         73148 non-null  int64 \n",
      " 7   company_location     73148 non-null  object\n",
      " 8   experience_level_EX  73148 non-null  bool  \n",
      " 9   experience_level_MI  73148 non-null  bool  \n",
      " 10  experience_level_SE  73148 non-null  bool  \n",
      " 11  employment_type_FL   73148 non-null  bool  \n",
      " 12  employment_type_FT   73148 non-null  bool  \n",
      " 13  employment_type_PT   73148 non-null  bool  \n",
      " 14  company_size_M       73148 non-null  bool  \n",
      " 15  company_size_S       73148 non-null  bool  \n",
      "dtypes: bool(8), int64(4), object(4)\n",
      "memory usage: 5.0+ MB\n"
     ]
    }
   ],
   "source": [
    "df.info()"
   ]
  },
  {
   "cell_type": "code",
   "execution_count": 223,
   "id": "b13ba588",
   "metadata": {},
   "outputs": [],
   "source": [
    "df=df.drop(columns=['job_title','salary_currency','employee_residence','company_location'])"
   ]
  },
  {
   "cell_type": "code",
   "execution_count": null,
   "id": "4e3b85b0",
   "metadata": {},
   "outputs": [
    {
     "name": "stdout",
     "output_type": "stream",
     "text": [
      "LinerRegression Accuracy : -0.26040585285524354\n",
      "mean_squared_error 6844337108.956111\n",
      "root mean squareerror 82730.50893688561\n",
      " \n",
      "RandomForestRegressor performance\n",
      "RandomForestRegressor accuracy 0.9902300503634958\n",
      " \n",
      "Dection Tree Regression\n",
      "Decision Tree Regression 0.9887331306438216\n"
     ]
    }
   ],
   "source": [
    "#ML MODEL\n",
    "from sklearn.model_selection import train_test_split\n",
    "from sklearn.linear_model import LinearRegression\n",
    "from sklearn.tree import  DecisionTreeRegressor\n",
    "from sklearn.ensemble import RandomForestRegressor\n",
    "from sklearn.ensemble import VotingClassifier\n",
    "from sklearn.metrics import accuracy_score\n",
    "from sklearn.metrics import mean_squared_error,r2_score\n",
    "\n",
    "x=df.drop('salary_in_usd',axis=1)\n",
    "y=df['salary_in_usd']\n",
    "\n",
    "#linearRegression\n",
    "x_train,x_test,y_train,y_test=train_test_split(x,y,test_size=0.2,random_state=42)\n",
    "lr_model=LinearRegression()\n",
    "lr_model.fit(x_train,y_train)\n",
    "y_pred_lr=lr_model.predict(x_test)\n",
    "lr_accuracy=r2_score(y_test,y_pred_lr)\n",
    "mse=mean_squared_error(y_test,y_pred_lr)\n",
    "rmse=np.sqrt(mse)\n",
    "\n",
    "#RandomForestRegressor\n",
    "rf_model=RandomForestRegressor(n_estimators=200,max_depth=15,random_state=42)\n",
    "rf_model.fit(x_train,y_train)\n",
    "y_pred_rf=rf_model.predict(x_test)\n",
    "rf_accuracy=r2_score(y_test,y_pred_rf)\n",
    "\n",
    "#Decision tree regressor\n",
    "dt_model=DecisionTreeRegressor(max_depth=None,random_state=42)\n",
    "dt_model.fit(x_train,y_train)\n",
    "y_pred_dt=dt_model.predict(x_test)\n",
    "dt_accuracy=r2_score(y_test,y_pred_dt)\n",
    "\n",
    "\n",
    "print(\"LinerRegression Accuracy :\",lr_accuracy)\n",
    "print(\"mean_squared_error\",mse)\n",
    "print(\"root mean squareerror\",rmse)\n",
    "\n",
    "print(\" \")\n",
    "print(\"RandomForestRegressor performance\")\n",
    "print(\"RandomForestRegressor accuracy\",rf_accuracy)\n",
    "\n",
    "print(\" \")\n",
    "print(\"Dection Tree Regression\")\n",
    "print('Decision Tree Regression',dt_accuracy)"
   ]
  },
  {
   "cell_type": "code",
   "execution_count": null,
   "id": "255a37a3",
   "metadata": {},
   "outputs": [
    {
     "name": "stdout",
     "output_type": "stream",
     "text": [
      "hybrid model accuracy:{:.2f}% 99.10016788886996\n",
      "mean_squared_error 6844337108.956111\n"
     ]
    }
   ],
   "source": [
    "#STACKED HYBRID MODEL\n",
    "from sklearn.model_selection import train_test_split\n",
    "from sklearn.ensemble import RandomForestRegressor,GradientBoostingRegressor,VotingRegressor\n",
    "from sklearn.ensemble import VotingClassifier\n",
    "from sklearn.metrics import accuracy_score\n",
    "from sklearn.metrics import mean_squared_error,r2_score\n",
    "\n",
    "x=df.drop('salary_in_usd',axis=1)\n",
    "y=df['salary_in_usd']\n",
    "\n",
    "#linearRegression\n",
    "x_train,x_test,y_train,y_test=train_test_split(x,y,test_size=0.2,random_state=42)\n",
    "x_base,x_holdout,y_base,y_holdout=train_test_split(x_train,y_train,test_size=0.3,random_state=42)\n",
    "\n",
    "rf=RandomForestRegressor(n_estimators=200,max_depth=10,random_state=42)\n",
    "gbr=GradientBoostingRegressor(n_estimators=200,max_depth=5,random_state=42)\n",
    "\n",
    "rf.fit(x_base,y_base)\n",
    "gbr.fit(x_base,y_base)\n",
    "\n",
    "rf_pred=rf.predict(x_holdout)\n",
    "gbr_pred=gbr.predict(x_holdout)\n",
    "stacked_pred=np.column_stack((rf_pred,gbr_pred))\n",
    "\n",
    "meta_model=LinearRegression()\n",
    "meta_model.fit(stacked_pred,y_holdout)\n",
    "\n",
    "rf_test_pred=rf.predict(x_test)\n",
    "gbr_test_pred=gbr.predict(x_test)\n",
    "stacked_test=np.column_stack((rf_test_pred,gbr_test_pred))\n",
    "\n",
    "final_pred=meta_model.predict(stacked_test)\n",
    "r2=r2_score(y_test,final_pred)\n",
    "\n",
    "\n",
    "print('hybrid model accuracy:{:.2f}%',format(r2*100))\n",
    "print('mean_squared_error',mse)"
   ]
  },
  {
   "cell_type": "code",
   "execution_count": null,
   "id": "9cb11d69",
   "metadata": {},
   "outputs": [],
   "source": []
  }
 ],
 "metadata": {
  "kernelspec": {
   "display_name": "Python 3",
   "language": "python",
   "name": "python3"
  },
  "language_info": {
   "codemirror_mode": {
    "name": "ipython",
    "version": 3
   },
   "file_extension": ".py",
   "mimetype": "text/x-python",
   "name": "python",
   "nbconvert_exporter": "python",
   "pygments_lexer": "ipython3",
   "version": "3.10.10"
  }
 },
 "nbformat": 4,
 "nbformat_minor": 5
}
